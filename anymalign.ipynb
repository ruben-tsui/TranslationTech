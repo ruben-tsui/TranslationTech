{
 "cells": [
  {
   "cell_type": "markdown",
   "metadata": {},
   "source": [
    "### Run Anymalign on Jupyter notebook"
   ]
  },
  {
   "cell_type": "code",
   "execution_count": 1,
   "metadata": {},
   "outputs": [
    {
     "name": "stdout",
     "output_type": "stream",
     "text": [
      "total 351520\r\n",
      "-rwxrwx---. 1 jovyan root   248159985 Mar 12 10:16 everything3.txt\r\n",
      "-rw-r--r--. 1 jovyan jovyan      4661 Mar 12 11:42 grep.ipynb\r\n",
      "-rw-r--r--. 1 jovyan root   111739765 Mar 12 10:18 nytbilingnews.zip\r\n",
      "-rw-r--r--. 1 jovyan jovyan        65 Mar 12 11:17 README.md\r\n",
      "-rw-r--r--. 1 jovyan root        8892 Mar 12 11:19 名存實亡.txt\r\n"
     ]
    }
   ],
   "source": [
    "!ls -l"
   ]
  },
  {
   "cell_type": "markdown",
   "metadata": {},
   "source": [
    "### Check Python 2 version"
   ]
  },
  {
   "cell_type": "code",
   "execution_count": 2,
   "metadata": {},
   "outputs": [
    {
     "name": "stdout",
     "output_type": "stream",
     "text": [
      "Python 2.7.15+\r\n"
     ]
    }
   ],
   "source": [
    "!python2 --version"
   ]
  },
  {
   "cell_type": "markdown",
   "metadata": {},
   "source": [
    "### Download the \"Oldman\" package (which contains anymalign.py, a Python 2.7 script)"
   ]
  },
  {
   "cell_type": "code",
   "execution_count": 3,
   "metadata": {},
   "outputs": [
    {
     "name": "stdout",
     "output_type": "stream",
     "text": [
      "--2020-03-12 11:42:30--  http://nlp.csie.org/~rubentsui/files/TranslationTech1082/oldman.zip\n",
      "Resolving nlp.csie.org (nlp.csie.org)... 140.112.185.31\n",
      "Connecting to nlp.csie.org (nlp.csie.org)|140.112.185.31|:80... connected.\n",
      "HTTP request sent, awaiting response... 200 OK\n",
      "Length: 529796 (517K) [application/zip]\n",
      "Saving to: ‘oldman.zip’\n",
      "\n",
      "oldman.zip          100%[===================>] 517.38K   382KB/s    in 1.4s    \n",
      "\n",
      "2020-03-12 11:42:32 (382 KB/s) - ‘oldman.zip’ saved [529796/529796]\n",
      "\n"
     ]
    }
   ],
   "source": [
    "!wget -c http://nlp.csie.org/~rubentsui/files/TranslationTech1082/oldman.zip"
   ]
  },
  {
   "cell_type": "markdown",
   "metadata": {},
   "source": [
    "### Unzip the file and check the line count"
   ]
  },
  {
   "cell_type": "code",
   "execution_count": 4,
   "metadata": {},
   "outputs": [
    {
     "name": "stdout",
     "output_type": "stream",
     "text": [
      "Archive:  oldman.zip\r\n",
      "  inflating: anymalign.py            \r\n",
      "  inflating: oldc1out.txt            \r\n",
      "  inflating: oldc2out.txt            \r\n",
      "  inflating: olde.txt                \r\n",
      " extracting: хжВф╜ХхЯ╖шбМшйЮх░НцЗЙчиЛх╝П animalign2016.pdf  \r\n"
     ]
    }
   ],
   "source": [
    "!unzip oldman"
   ]
  },
  {
   "cell_type": "code",
   "execution_count": 5,
   "metadata": {},
   "outputs": [
    {
     "name": "stdout",
     "output_type": "stream",
     "text": [
      "  1895 oldc1out.txt\r\n",
      "  1895 oldc2out.txt\r\n",
      "  1895 olde.txt\r\n",
      "  5685 total\r\n"
     ]
    }
   ],
   "source": [
    "!wc -l old*txt"
   ]
  },
  {
   "cell_type": "markdown",
   "metadata": {},
   "source": [
    "### Run Anyalign with a 'timeout' condition of 20 seconds"
   ]
  },
  {
   "cell_type": "code",
   "execution_count": 6,
   "metadata": {},
   "outputs": [
    {
     "name": "stdout",
     "output_type": "stream",
     "text": [
      "Input corpus: 2 languages, 1896 lines\n",
      "Aligning... (ctrl-c to interrupt)\n",
      "(79703 subcorpora, avg=10.17) Alignment done, proceeding... \n",
      "28891 alignments\n",
      "Sorting alignments\n",
      "Computing conditional probabilities...\n",
      "Outputting results...\n",
      "100%\r"
     ]
    }
   ],
   "source": [
    "!python2  anymalign.py  --timeout=20  olde.txt  oldc1out.txt > aligned.txt"
   ]
  },
  {
   "cell_type": "markdown",
   "metadata": {},
   "source": [
    "### Check to see if the output file has been created"
   ]
  },
  {
   "cell_type": "code",
   "execution_count": 7,
   "metadata": {},
   "outputs": [
    {
     "name": "stdout",
     "output_type": "stream",
     "text": [
      "total 354036\r\n",
      "-rw-r--r--. 1 jovyan root     1197095 Mar 12 11:42  aligned.txt\r\n",
      "-rw-r--r--. 1 jovyan root       61910 Sep 28  2017  anymalign.py\r\n",
      "-rwxrwx---. 1 jovyan root   248159985 Mar 12 10:16  everything3.txt\r\n",
      "-rw-r--r--. 1 jovyan jovyan      4661 Mar 12 11:42  grep.ipynb\r\n",
      "-rw-r--r--. 1 jovyan root   111739765 Mar 12 10:18  nytbilingnews.zip\r\n",
      "-rw-r--r--. 1 jovyan root      156515 Sep 28  2017  oldc1out.txt\r\n",
      "-rw-r--r--. 1 jovyan root      146715 Sep 28  2017  oldc2out.txt\r\n",
      "-rw-r--r--. 1 jovyan root      131330 Sep 28  2017  olde.txt\r\n",
      "-rw-r--r--. 1 jovyan root      529796 Sep 28  2017  oldman.zip\r\n",
      "-rw-r--r--. 1 jovyan jovyan        65 Mar 12 11:17  README.md\r\n",
      "-rw-r--r--. 1 jovyan root      305712 Sep 28  2017 'хжВф╜ХхЯ╖шбМшйЮх░НцЗЙчиЛх╝П animalign2016.pdf'\r\n",
      "-rw-r--r--. 1 jovyan root        8892 Mar 12 11:19  名存實亡.txt\r\n"
     ]
    }
   ],
   "source": [
    "!ls -l"
   ]
  },
  {
   "cell_type": "markdown",
   "metadata": {},
   "source": [
    "### Print out the first 50 lines of the output file"
   ]
  },
  {
   "cell_type": "code",
   "execution_count": 8,
   "metadata": {},
   "outputs": [
    {
     "name": "stdout",
     "output_type": "stream",
     "text": [
      "boy\t孩子\t-\t0.985327 0.960334\t12759\r\n",
      "I\t我\t-\t0.867975 0.820316\t11459\r\n",
      "said\t說\t-\t0.960886 0.957151\t10588\r\n",
      "he\t他\t-\t0.736120 0.650297\t10408\r\n",
      "thought\t想\t-\t0.960735 0.919051\t8833\r\n",
      "But\t但是\t-\t0.934863 0.863885\t7578\r\n",
      "old man\t老人\t-\t0.931544 0.475324\t7185\r\n",
      "old\t老人\t-\t0.946788 0.295449\t4466\r\n",
      "aloud\t自言自語\t-\t0.993693 0.941669\t3939\r\n",
      "you\t你\t-\t0.923265 0.662458\t3778\r\n",
      "bow\t船頭\t-\t0.976757 0.996374\t3572\r\n",
      "now\t現在\t-\t0.867855 0.715085\t3067\r\n",
      "harpoon\t魚叉\t-\t0.998595 0.997544\t2843\r\n",
      "sun\t太陽\t-\t0.964685 0.972747\t2677\r\n",
      "dolphin\t泥鰍\t-\t0.985786 0.940919\t2150\r\n",
      "wood\t木頭\t-\t0.986371 0.995923\t1954\r\n",
      "stern\t船尾\t-\t0.981967 0.968211\t1797\r\n",
      "man\t老人\t-\t0.800629 0.117954\t1783\r\n",
      "flying\t飛魚\t-\t0.936491 0.959735\t1740\r\n",
      "the\t的\t-\t0.223786 0.213607\t1686\r\n",
      "moon\t月亮\t-\t0.993972 0.989202\t1649\r\n",
      "Then\t然後\t-\t0.893100 0.682663\t1579\r\n",
      "shack\t小屋\t-\t0.981657 0.991693\t1552\r\n",
      "line\t釣絲\t-\t0.699949 0.774929\t1360\r\n",
      "tail\t尾巴\t-\t0.960242 0.963573\t1111\r\n",
      "Terrace\t露台\t-\t0.736407 1.000000\t1070\r\n",
      "knife\t小刀\t-\t0.916811 0.986940\t1058\r\n",
      "weather\t天氣\t-\t1.000000 0.981132\t1040\r\n",
      "we\t我們\t-\t0.897617 0.700413\t1017\r\n",
      "No\t不\t-\t0.533333 0.372445\t984\r\n",
      "he thought\t他 想\t-\t0.677352 0.658091\t972\r\n",
      "He\t他\t-\t0.373984 0.060356\t966\r\n",
      "tired\t疲倦\t-\t0.953511 0.927815\t964\r\n",
      "land\t陸地\t-\t0.986330 0.995754\t938\r\n",
      "a\t一\t-\t0.294637 0.308047\t934\r\n",
      "two\t兩\t-\t0.891762 0.743610\t931\r\n",
      "left\t左手\t-\t0.892650 0.747974\t923\r\n",
      "shoulders\t肩膀\t-\t0.977707 0.913690\t921\r\n",
      "tuna\t鮪魚\t-\t0.978518 0.985931\t911\r\n",
      "the\t了\t-\t0.119857 0.172691\t903\r\n",
      "know\t知道\t-\t0.851711 0.384055\t896\r\n",
      "and\t的\t-\t0.201725 0.112631\t889\r\n",
      "shark\t鯊魚\t-\t0.902692 0.601379\t872\r\n",
      "asked\t問\t-\t0.961364 0.913607\t846\r\n",
      "fish\t魚\t-\t0.309768 0.571930\t815\r\n",
      "coffee\t咖啡\t-\t0.934332 0.986618\t811\r\n",
      "brown\t棕色\t-\t1.000000 1.000000\t808\r\n",
      "knew\t知道\t-\t0.906393 0.340334\t794\r\n",
      "right\t右手\t-\t0.867429 0.830416\t759\r\n",
      "marlin\t馬林魚\t-\t0.998645 0.997294\t737\r\n"
     ]
    }
   ],
   "source": [
    "!head -50 aligned.txt"
   ]
  },
  {
   "cell_type": "code",
   "execution_count": null,
   "metadata": {},
   "outputs": [],
   "source": []
  }
 ],
 "metadata": {
  "kernelspec": {
   "display_name": "Python 3",
   "language": "python",
   "name": "python3"
  },
  "language_info": {
   "codemirror_mode": {
    "name": "ipython",
    "version": 3
   },
   "file_extension": ".py",
   "mimetype": "text/x-python",
   "name": "python",
   "nbconvert_exporter": "python",
   "pygments_lexer": "ipython3",
   "version": "3.7.6"
  }
 },
 "nbformat": 4,
 "nbformat_minor": 4
}
